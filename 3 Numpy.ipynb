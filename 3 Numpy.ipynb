{
 "cells": [
  {
   "cell_type": "raw",
   "metadata": {},
   "source": [
    "Used for multi-dimentional arrays"
   ]
  },
  {
   "cell_type": "raw",
   "metadata": {},
   "source": [
    "Numpy Arrays : DataStructure that stores values of same Data Type."
   ]
  },
  {
   "cell_type": "code",
   "execution_count": 3,
   "metadata": {},
   "outputs": [],
   "source": [
    "import numpy as np"
   ]
  },
  {
   "cell_type": "code",
   "execution_count": 2,
   "metadata": {},
   "outputs": [],
   "source": [
    "li1 = [1,2,3,4,5]\n",
    "li2 = ['hello', 'world']\n",
    "li3 = [1,2, 'Hello']"
   ]
  },
  {
   "cell_type": "code",
   "execution_count": 13,
   "metadata": {},
   "outputs": [
    {
     "name": "stdout",
     "output_type": "stream",
     "text": [
      "[1 2 3 4 5]\n",
      "<class 'numpy.int32'>\n",
      "['hello' 'world']\n",
      "<class 'numpy.str_'>\n",
      "['1' '2' 'Hello']\n",
      "<class 'numpy.str_'>\n"
     ]
    }
   ],
   "source": [
    "arr1 = np.array(li1)\n",
    "arr2 = np.array(li2)\n",
    "arr3 = np.array(li3)\n",
    "\n",
    "print(arr1)\n",
    "print(type(arr1[0]))\n",
    "print(arr2)\n",
    "print(type(arr2[0]))\n",
    "print(arr3)\n",
    "print(type(arr3[0]))"
   ]
  },
  {
   "cell_type": "code",
   "execution_count": 31,
   "metadata": {},
   "outputs": [
    {
     "name": "stdout",
     "output_type": "stream",
     "text": [
      "[[1 2 3]\n",
      " [4 5 6]\n",
      " [7 8 9]]\n",
      "##########\n",
      "[['1' '2']\n",
      " ['l' 'l']\n",
      " ['o' 'o']]\n",
      "##########\n",
      "[list([1, 2, 'h']) list(['l', 'l']) list(['o', 'o'])]\n",
      "##########\n"
     ]
    }
   ],
   "source": [
    "l1 = [1,2,3]\n",
    "l2 = [4,5,6]\n",
    "l3 = [7,8,9]\n",
    "print(np.array([l1,l2,l3]))\n",
    "print(10*'#')\n",
    "\n",
    "l1 = [1,2]\n",
    "l2 = ['l', 'l']\n",
    "l3 = ['o', 'o']\n",
    "print(np.array([l1,l2, l3]))\n",
    "print(10*'#')\n",
    "\n",
    "l1 = [1,2, 'h']\n",
    "l2 = ['l', 'l']\n",
    "l3 = ['o', 'o']\n",
    "print(np.array([l1,l2, l3]))\n",
    "print(10*'#')"
   ]
  },
  {
   "cell_type": "markdown",
   "metadata": {},
   "source": [
    "## ***"
   ]
  },
  {
   "cell_type": "code",
   "execution_count": 38,
   "metadata": {},
   "outputs": [],
   "source": [
    "l1 = [1,2,3,4,5]\n",
    "l2 = [4,5,6,7,8]\n",
    "l3 = [7,8,9,1,2]\n",
    "arr = np.array([l1,l2,l3])"
   ]
  },
  {
   "cell_type": "code",
   "execution_count": 39,
   "metadata": {},
   "outputs": [
    {
     "data": {
      "text/plain": [
       "(3, 5)"
      ]
     },
     "execution_count": 39,
     "metadata": {},
     "output_type": "execute_result"
    }
   ],
   "source": [
    "arr.shape"
   ]
  },
  {
   "cell_type": "code",
   "execution_count": 46,
   "metadata": {},
   "outputs": [
    {
     "name": "stdout",
     "output_type": "stream",
     "text": [
      "[[1 2 3 4 5]\n",
      " [4 5 6 7 8]\n",
      " [7 8 9 1 2]]\n",
      "********************\n",
      "[[1 2 3]\n",
      " [4 5 4]\n",
      " [5 6 7]\n",
      " [8 7 8]\n",
      " [9 1 2]]\n",
      "********************\n",
      "[[1 2 3 4 5 4 5 6 7 8 7 8 9 1 2]]\n"
     ]
    }
   ],
   "source": [
    "print(arr)\n",
    "print(20*'*')\n",
    "print(arr.reshape(5,3))\n",
    "print(20*'*')\n",
    "print(arr.reshape(1,15))"
   ]
  },
  {
   "cell_type": "markdown",
   "metadata": {},
   "source": [
    "## Indexing"
   ]
  },
  {
   "cell_type": "code",
   "execution_count": 55,
   "metadata": {},
   "outputs": [
    {
     "data": {
      "text/plain": [
       "array([0, 1, 2, 3, 4, 5, 6, 7, 8, 9])"
      ]
     },
     "execution_count": 55,
     "metadata": {},
     "output_type": "execute_result"
    }
   ],
   "source": [
    "ar = np.array([0,1,2,3,4,5,6,7,8,9])\n",
    "ar"
   ]
  },
  {
   "cell_type": "code",
   "execution_count": 56,
   "metadata": {},
   "outputs": [
    {
     "data": {
      "text/plain": [
       "0"
      ]
     },
     "execution_count": 56,
     "metadata": {},
     "output_type": "execute_result"
    }
   ],
   "source": [
    "ar[0]"
   ]
  },
  {
   "cell_type": "code",
   "execution_count": 57,
   "metadata": {},
   "outputs": [],
   "source": [
    "l1 = [1,2,3,4,5]\n",
    "l2 = [4,5,6,7,8]\n",
    "l3 = [7,8,9,1,2]\n",
    "arr = np.array([l1,l2,l3])"
   ]
  },
  {
   "cell_type": "code",
   "execution_count": 58,
   "metadata": {},
   "outputs": [
    {
     "data": {
      "text/plain": [
       "array([[1, 2, 3, 4, 5],\n",
       "       [4, 5, 6, 7, 8],\n",
       "       [7, 8, 9, 1, 2]])"
      ]
     },
     "execution_count": 58,
     "metadata": {},
     "output_type": "execute_result"
    }
   ],
   "source": [
    "arr"
   ]
  },
  {
   "cell_type": "code",
   "execution_count": 63,
   "metadata": {},
   "outputs": [
    {
     "name": "stdout",
     "output_type": "stream",
     "text": [
      "2\n",
      "2\n"
     ]
    }
   ],
   "source": [
    "print(arr[0][1])\n",
    "print(arr[0,1])"
   ]
  },
  {
   "cell_type": "code",
   "execution_count": 78,
   "metadata": {},
   "outputs": [
    {
     "name": "stdout",
     "output_type": "stream",
     "text": [
      "[[1 2 3 4 5]\n",
      " [4 5 6 7 8]]\n",
      "********************\n",
      "[1 2 3 4 5]\n"
     ]
    }
   ],
   "source": [
    "# Fetching Rows\n",
    "print(arr[0:2])\n",
    "print(20*'*')\n",
    "print(arr[0:2][0]) #fetching 0th element of arr[0:2]"
   ]
  },
  {
   "cell_type": "code",
   "execution_count": 81,
   "metadata": {},
   "outputs": [
    {
     "name": "stdout",
     "output_type": "stream",
     "text": [
      "[[1 2]\n",
      " [4 5]]\n",
      "********************\n",
      "[1 4]\n"
     ]
    }
   ],
   "source": [
    "print(arr[0:2,0:2]) # Fetching Rows n Cols\n",
    "print(20*'*')\n",
    "print(arr[0:2,0:2][:,0])"
   ]
  },
  {
   "cell_type": "code",
   "execution_count": 82,
   "metadata": {},
   "outputs": [],
   "source": [
    "# Fetch 4,5,6,7"
   ]
  },
  {
   "cell_type": "code",
   "execution_count": 87,
   "metadata": {},
   "outputs": [
    {
     "name": "stdout",
     "output_type": "stream",
     "text": [
      "[[1 2 3 4 5]\n",
      " [4 5 6 7 8]\n",
      " [7 8 9 1 2]]\n",
      "********************\n",
      "[4 5 6 7]\n",
      "********************\n",
      "[[5 6]\n",
      " [8 9]]\n"
     ]
    }
   ],
   "source": [
    "print(arr)\n",
    "print(20*'*')\n",
    "print(arr[1,:4]) # Fetching 4,5,6,7\n",
    "print(20*'*')\n",
    "print(arr[1:, 1:3]) # Fetching 5,6,8,9"
   ]
  },
  {
   "cell_type": "code",
   "execution_count": 94,
   "metadata": {},
   "outputs": [
    {
     "name": "stdout",
     "output_type": "stream",
     "text": [
      "[[5, 6], [8, 9]]\n",
      "[5, 6, 8, 9]\n"
     ]
    }
   ],
   "source": [
    "# Flat the ARRAY and Store it into list\n",
    "print(arr[1:, 1:3].tolist())\n",
    "print(arr[1:, 1:3].flatten().tolist())"
   ]
  },
  {
   "cell_type": "markdown",
   "metadata": {},
   "source": [
    "## range()"
   ]
  },
  {
   "cell_type": "code",
   "execution_count": 99,
   "metadata": {
    "scrolled": true
   },
   "outputs": [
    {
     "name": "stdout",
     "output_type": "stream",
     "text": [
      "[0 1 2 3 4 5 6 7 8 9]\n",
      "[0 2 4 6 8]\n"
     ]
    }
   ],
   "source": [
    "arr = np.arange(0,10)\n",
    "print(arr)\n",
    "\n",
    "arr = np.arange(0,10,2)\n",
    "print(arr)"
   ]
  },
  {
   "cell_type": "markdown",
   "metadata": {},
   "source": [
    "## linspace function usful in DL"
   ]
  },
  {
   "cell_type": "code",
   "execution_count": 102,
   "metadata": {},
   "outputs": [
    {
     "data": {
      "text/plain": [
       "array([ 0.        ,  0.41666667,  0.83333333,  1.25      ,  1.66666667,\n",
       "        2.08333333,  2.5       ,  2.91666667,  3.33333333,  3.75      ,\n",
       "        4.16666667,  4.58333333,  5.        ,  5.41666667,  5.83333333,\n",
       "        6.25      ,  6.66666667,  7.08333333,  7.5       ,  7.91666667,\n",
       "        8.33333333,  8.75      ,  9.16666667,  9.58333333, 10.        ])"
      ]
     },
     "execution_count": 102,
     "metadata": {},
     "output_type": "execute_result"
    }
   ],
   "source": [
    "# In a range if we want EQUALLY SPACED POINTS\n",
    "np.linspace(0,10, num=25)"
   ]
  },
  {
   "cell_type": "markdown",
   "metadata": {},
   "source": [
    "## COPY & Broadcast"
   ]
  },
  {
   "cell_type": "code",
   "execution_count": 110,
   "metadata": {},
   "outputs": [
    {
     "name": "stdout",
     "output_type": "stream",
     "text": [
      "[0 1 2 3 4 5 6 7 8 9]\n",
      "[  0   1   2 100 100 100 100 100 100 100]\n",
      "********************\n",
      "arr= [  0   1   2 500 500 500 500 500 500 500]\n",
      "arr1= [  0   1   2 500 500 500 500 500 500 500]\n",
      "********************\n",
      "arr= [0 1 2 3 4 5 6 7 8 9]\n",
      "arr1= [  0   1   2 500 500 500 500 500 500 500]\n"
     ]
    }
   ],
   "source": [
    "arr = np.arange(0,10)\n",
    "print(arr)\n",
    "\n",
    "arr[3:] = 100 #changes made to arr\n",
    "print(arr)\n",
    "print(20*'*')\n",
    "\n",
    "arr1 = arr\n",
    "arr1[3:] = 500 #changes made to arr1 will also reflect to arr  \"REFERENCE TYPE\"\n",
    "print('arr=',arr)\n",
    "print('arr1=',arr1)\n",
    "print(20*'*')\n",
    "\n",
    "arr = np.arange(0,10)\n",
    "arr1 = arr.copy() \n",
    "arr1[3:] = 500 #changes only made to arr1 \"VALUE TYPE\"\n",
    "print('arr=',arr)\n",
    "print('arr1=',arr1)"
   ]
  },
  {
   "cell_type": "markdown",
   "metadata": {},
   "source": [
    "## conditions"
   ]
  },
  {
   "cell_type": "code",
   "execution_count": 125,
   "metadata": {},
   "outputs": [],
   "source": [
    "arr = np.arange(0,10)\n",
    "val =2"
   ]
  },
  {
   "cell_type": "code",
   "execution_count": 130,
   "metadata": {},
   "outputs": [
    {
     "name": "stdout",
     "output_type": "stream",
     "text": [
      "Original Array: [0 1 2 3 4 5 6 7 8 9]\n",
      "[ True  True False False False False False False False False]\n",
      "[0 1]\n",
      "[False False False  True  True  True  True  True  True  True]\n",
      "[3 4 5 6 7 8 9]\n",
      "[ 0  2  4  6  8 10 12 14 16 18]\n",
      "[0.  0.5 1.  1.5 2.  2.5 3.  3.5 4.  4.5]\n",
      "[0 1 0 1 0 1 0 1 0 1]\n"
     ]
    }
   ],
   "source": [
    "print('Original Array:', arr)\n",
    "print(arr<val)\n",
    "print(arr[arr<val])\n",
    "print(arr>val)\n",
    "print(arr[arr>val])\n",
    "print(arr*val)\n",
    "print(arr/val)\n",
    "print(arr%val)"
   ]
  },
  {
   "cell_type": "markdown",
   "metadata": {},
   "source": [
    "## In-Built Functions"
   ]
  },
  {
   "cell_type": "markdown",
   "metadata": {},
   "source": [
    "## np.ones"
   ]
  },
  {
   "cell_type": "code",
   "execution_count": 136,
   "metadata": {
    "scrolled": true
   },
   "outputs": [
    {
     "name": "stdout",
     "output_type": "stream",
     "text": [
      "[1. 1. 1. 1. 1.]\n",
      "********************\n",
      "[1 1 1 1 1]\n",
      "********************\n",
      "[[1 1 1]\n",
      " [1 1 1]]\n"
     ]
    }
   ],
   "source": [
    "print(np.ones(5))\n",
    "print(20*'*')\n",
    "print(np.ones(5, dtype=int))\n",
    "print(20*'*')\n",
    "print(np.ones((2,3), dtype=int))"
   ]
  },
  {
   "cell_type": "markdown",
   "metadata": {},
   "source": [
    "## np.random"
   ]
  },
  {
   "cell_type": "code",
   "execution_count": 159,
   "metadata": {},
   "outputs": [
    {
     "name": "stdout",
     "output_type": "stream",
     "text": [
      "[[0.29099326 0.06757661 0.80643714]\n",
      " [0.25989077 0.33786042 0.53789873]\n",
      " [0.98802561 0.68038839 0.20363451]]\n",
      "[73  8 47 88  1 12 86 99]\n",
      "[0.56458138 0.43224235 0.02872922 0.75728802 0.90055565 0.83148831\n",
      " 0.46040338 0.55644953 0.8792058  0.95736411]\n"
     ]
    }
   ],
   "source": [
    "ra = np.random.rand(3,3) # default random values will be between 0 to 1 ACCEPTS SHAPE\n",
    "print(ra)\n",
    "\n",
    "rai = np.random.randint(0,100,8) # Selects 8 random numbers from 0-100\n",
    "print(rai)\n",
    "\n",
    "ras = np.random.random_sample(10) # selects random number of given count ACCEPTS SIZE\n",
    "print(ras)"
   ]
  },
  {
   "cell_type": "code",
   "execution_count": 155,
   "metadata": {},
   "outputs": [
    {
     "data": {
      "text/plain": [
       "array([[-0.83816672,  1.05816733,  1.29271913],\n",
       "       [-0.1969535 , -0.82775534, -0.75793417],\n",
       "       [-0.74661589,  1.01456581, -2.32411769]])"
      ]
     },
     "execution_count": 155,
     "metadata": {},
     "output_type": "execute_result"
    }
   ],
   "source": [
    "ran = np.random.randn(3,3) # maintains Standard-Distribution / Gaussian-Distribution\n",
    "ran"
   ]
  },
  {
   "cell_type": "code",
   "execution_count": 147,
   "metadata": {},
   "outputs": [],
   "source": [
    "import seaborn as sns"
   ]
  },
  {
   "cell_type": "code",
   "execution_count": 156,
   "metadata": {},
   "outputs": [
    {
     "data": {
      "text/plain": [
       "<matplotlib.axes._subplots.AxesSubplot at 0x19686a8c6d8>"
      ]
     },
     "execution_count": 156,
     "metadata": {},
     "output_type": "execute_result"
    },
    {
     "data": {
      "image/png": "[encoded data removed]",
      "text/plain": [
       "<Figure size 432x288 with 1 Axes>"
      ]
     },
     "metadata": {
      "needs_background": "light"
     },
     "output_type": "display_data"
    }
   ],
   "source": [
    "sns.distplot(ran.flatten())"
   ]
  },
  {
   "cell_type": "code",
   "execution_count": null,
   "metadata": {},
   "outputs": [],
   "source": []
  },
  {
   "cell_type": "code",
   "execution_count": null,
   "metadata": {},
   "outputs": [],
   "source": []
  }
 ],
 "metadata": {
  "kernelspec": {
   "display_name": "Python 3",
   "language": "python",
   "name": "python3"
  },
  "language_info": {
   "codemirror_mode": {
    "name": "ipython",
    "version": 3
   },
   "file_extension": ".py",
   "mimetype": "text/x-python",
   "name": "python",
   "nbconvert_exporter": "python",
   "pygments_lexer": "ipython3",
   "version": "3.7.3"
  }
 },
 "nbformat": 4,
 "nbformat_minor": 2
}
